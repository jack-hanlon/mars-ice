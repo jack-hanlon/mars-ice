{
 "cells": [
  {
   "cell_type": "markdown",
   "metadata": {},
   "source": [
    "<h1>How to set up a PyCUDA environment on Windows 10<h1/>"
   ]
  },
  {
   "cell_type": "markdown",
   "metadata": {},
   "source": [
    "<h5>Firstly, the following programs need to be downloaded and installed:</h5>\n",
    "\n",
    "- Anaconda 3 (with Latest Python) -- https://www.anaconda.com/products/individual#Downloads\n",
    "- Visual Studio 2019 -- https://visualstudio.microsoft.com/downloads/\n",
    "- CUDA Toolkit 11.2 -- https://developer.nvidia.com/cuda-11.2.0-download-archive\n",
    "- CUDA Toolkit 11.3 -- https://developer.nvidia.com/cuda-downloads\n",
    "\n",
    "The Visual Studio download will prompt you to install packages for its environment, select the relevant data science packages and the C++ integration on the menu on the right hand side.\n",
    "\n",
    "The others just require the defuault settings.\n",
    "\n",
    "<h5>Once these are all downloaded and installed, create a batch file labeled \"launch-python-cuda-environment.bat\" with the following contents:</h5>\n",
    "\n",
    "```\n",
    "call \"C:\\Program Files (x86)\\Microsoft Visual Studio\\2019\\Community\\VC\\Auxiliary\\Build\\vcvarsall.bat\" x64\n",
    "call \"C:\\Users\\your_name\\Anaconda3\\Scripts\\activate.bat\" C:\\Users\\your_name\\Anaconda3\n",
    "cmd\n",
    "```\n",
    "\n",
    "It is important to note that:\n",
    "\n",
    "1. The first line of your batch file needs to point to the vsvarsall.bat file in your Visual Studio installation (May be in a different location than described above). \n",
    "\n",
    "2. CUDA toolkits need to be added to the path variable for your command prompt.\n",
    "\n",
    "3. The second line needs to point to your activate.bat file which also might be in a different location in your installation.\n",
    "\n",
    "\n",
    "Run your launch-python-cuda-environment.bat file and a command prompt will open with the PyCUDA environment.\n",
    "\n",
    "Use the DeviceQuery.py file to test that your PyCUDA environment is running properly and that your GPU is CUDA-enabled."
   ]
  }
 ],
 "metadata": {
  "kernelspec": {
   "display_name": "Python 3",
   "language": "python",
   "name": "python3"
  },
  "language_info": {
   "codemirror_mode": {
    "name": "ipython",
    "version": 3
   },
   "file_extension": ".py",
   "mimetype": "text/x-python",
   "name": "python",
   "nbconvert_exporter": "python",
   "pygments_lexer": "ipython3",
   "version": "3.8.5"
  }
 },
 "nbformat": 4,
 "nbformat_minor": 4
}
